{
 "cells": [
  {
   "cell_type": "code",
   "execution_count": 2,
   "metadata": {},
   "outputs": [
    {
     "name": "stdout",
     "output_type": "stream",
     "text": [
      "Введите число:25\n",
      "Введите месяц (в числовом виде 1,2,3...):3\n",
      "Ваш знак: Овен\n"
     ]
    }
   ],
   "source": [
    "data = int(input('Введите число:'))\n",
    "month = int(input('Введите месяц (в числовом виде 1,2,3...):'))\n",
    "if (21 <= data <= 31 and month == 3) or (1 <= data <= 20 and month == 4):\n",
    "    print ('Ваш знак: Овен')"
   ]
  },
  {
   "cell_type": "code",
   "execution_count": null,
   "metadata": {},
   "outputs": [],
   "source": []
  }
 ],
 "metadata": {
  "kernelspec": {
   "display_name": "Python 3",
   "language": "python",
   "name": "python3"
  },
  "language_info": {
   "codemirror_mode": {
    "name": "ipython",
    "version": 3
   },
   "file_extension": ".py",
   "mimetype": "text/x-python",
   "name": "python",
   "nbconvert_exporter": "python",
   "pygments_lexer": "ipython3",
   "version": "3.7.6"
  }
 },
 "nbformat": 4,
 "nbformat_minor": 4
}
