{
 "cells": [
  {
   "cell_type": "markdown",
   "metadata": {},
   "source": [
    "Задание 1 Напишите функцию, которая принимает на вход строку и проверяет является ли она валидным транспортным номером (1 буква, 3 цифры, 2 буквы, 2-3 цифры). Обратите внимание, что не все буквы кириллического алфавита используются в транспортных номерах.\n",
    "\n",
    "Если номер валиден, то функция должна возвращать отдельно номер и регион.\n",
    "\n",
    "Примеры работы программы:\n",
    "\n",
    "car_id = 'A222BC96' Результат: Номер A222BС валиден. Регион: 96\n",
    "\n",
    "car_id = 'АБ22ВВ193' Результат: Номер не валиден"
   ]
  },
  {
   "cell_type": "code",
   "execution_count": 1,
   "metadata": {},
   "outputs": [],
   "source": [
    "import re"
   ]
  },
  {
   "cell_type": "code",
   "execution_count": 53,
   "metadata": {},
   "outputs": [
    {
     "name": "stdout",
     "output_type": "stream",
     "text": [
      "Введите номер транспортного средства:А678ОР89\n",
      "Результат: Номер  А 678 ОР валиден. Регион: 89\n"
     ]
    }
   ],
   "source": [
    "def transport_number(car_id):\n",
    "    re_numb = r'([А, В, Е, К, М, Н, О, Р, С, Т, У, Х]{1})(\\d{3})([А, В, Е, К, М, Н, О, Р, С, Т, У, Х]{2})(\\d{2})'\n",
    "    match_result = re.search(re_numb, car_id)\n",
    "    if match_result.group(0) == car_id:\n",
    "        print('Результат: Номер ' , match_result.group(1), match_result.group(2), match_result.group(3), 'валиден. Регион:', match_result.group(4))\n",
    "    else:\n",
    "        print('Результат: Номер не валиден')\n",
    "    \n",
    "    \n",
    "transport_number(input('Введите номер транспортного средства:'))"
   ]
  },
  {
   "cell_type": "markdown",
   "metadata": {},
   "source": [
    "Задание 2 Напишите функцию, которая будет удалять все последовательные повторы слов из заданной строки при помощи регулярных выражений.\n",
    "\n",
    "Пример работы программы:\n",
    "\n",
    "some_string = 'Напишите функцию функцию, которая будет будет будет будет удалять все все все все последовательные повторы слов из из из из заданной строки строки при помощи регулярных выражений.'\n",
    "\n",
    "Результат: Напишите функцию, которая будет удалять все последовательные повторы слов из заданной строки при помощи регулярных выражений."
   ]
  },
  {
   "cell_type": "code",
   "execution_count": 54,
   "metadata": {},
   "outputs": [],
   "source": [
    "some_string = 'Напишите функцию функцию, которая будет будет будет будет удалять все все все все последовательные повторы слов из из из из заданной строки строки при помощи регулярных выражений.'"
   ]
  },
  {
   "cell_type": "code",
   "execution_count": 60,
   "metadata": {},
   "outputs": [
    {
     "data": {
      "text/plain": [
       "'Напишите функцию, которая будет удалять все последовательные повторы слов из заданной строки при помощи регулярных выражений.'"
      ]
     },
     "execution_count": 60,
     "metadata": {},
     "output_type": "execute_result"
    }
   ],
   "source": [
    "re.sub(r'(\\b[А-Яа-я]+\\b)(?:.*\\1)', r'\\1', some_string)"
   ]
  },
  {
   "cell_type": "markdown",
   "metadata": {},
   "source": [
    "Задание 3 Напишите функцию, которая будет возвращать акроним по переданной в нее строке со словами.\n",
    "\n",
    "Примеры работы программы:\n",
    "\n",
    "some_words = 'Информационные технологии' Результат: ИТ\n",
    "\n",
    "some_words = 'Near Field Communication' Результат: NFC"
   ]
  },
  {
   "cell_type": "code",
   "execution_count": 101,
   "metadata": {},
   "outputs": [
    {
     "name": "stdout",
     "output_type": "stream",
     "text": [
      "Введите строку:Информационные технологии\n",
      "ИТ"
     ]
    }
   ],
   "source": [
    "def acronyms(some_words):\n",
    "    some_words_ = some_words.upper()\n",
    "    some_words_spl = re.split(r'\\s', some_words_)\n",
    "\n",
    "    for w in some_words_spl:\n",
    "        acr_ = re.search(r'(\\b\\w)' , w)\n",
    "        print(acr_.group(0) , end='')\n",
    "        \n",
    "acronyms(input('Введите строку:'))"
   ]
  },
  {
   "cell_type": "markdown",
   "metadata": {},
   "source": [
    "Задание 4 Напишите функцию, которая будет принимать на вход список email-адресов и выводить их распределение по доменным зонам.\n",
    "\n",
    "Пример работы программы:\n",
    "\n",
    "emails = ['test@gmail.com', 'xyz@test.in', 'test@ya.ru', 'xyz@mail.ru', 'xyz@ya.ru', 'xyz@gmail.com']\n",
    "\n",
    "Результат:\n",
    "\n",
    "gmail.com: 2 test.in: 1 ya.ru: 2 mail.ru: 1"
   ]
  },
  {
   "cell_type": "code",
   "execution_count": 136,
   "metadata": {},
   "outputs": [
    {
     "name": "stdout",
     "output_type": "stream",
     "text": [
      "{'@gmail.com': 2, '@test.in': 1, '@ya.ru': 2, '@mail.ru': 1}\n"
     ]
    }
   ],
   "source": [
    "def dom_zone(emails):\n",
    "    emails_list = []\n",
    "    for mail in emails:\n",
    "        dom = re.search(r'([@].+[a-z])', mail)\n",
    "        emails_list.append(dom.group())\n",
    "\n",
    "    val = {}\n",
    "    for data in emails_list:\n",
    "        if data in emails_list:\n",
    "            val[data] = emails_list.count(data)\n",
    "    print(val)\n",
    "        \n",
    "    \n",
    "    "
   ]
  },
  {
   "cell_type": "code",
   "execution_count": null,
   "metadata": {},
   "outputs": [],
   "source": []
  }
 ],
 "metadata": {
  "kernelspec": {
   "display_name": "Python 3",
   "language": "python",
   "name": "python3"
  },
  "language_info": {
   "codemirror_mode": {
    "name": "ipython",
    "version": 3
   },
   "file_extension": ".py",
   "mimetype": "text/x-python",
   "name": "python",
   "nbconvert_exporter": "python",
   "pygments_lexer": "ipython3",
   "version": "3.7.6"
  }
 },
 "nbformat": 4,
 "nbformat_minor": 4
}
