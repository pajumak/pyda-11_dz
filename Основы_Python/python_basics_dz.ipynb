{
 "cells": [
  {
   "cell_type": "markdown",
   "metadata": {},
   "source": [
    "Задание 1. \n",
    "Даны 2 строки: long_phrase и short_phrase. Напишите код, который проверяет действительно ли длинная фраза long_phrase длиннее короткой short_phrase. И выводит True или False в зависимости от результата сравнения."
   ]
  },
  {
   "cell_type": "code",
   "execution_count": null,
   "metadata": {},
   "outputs": [],
   "source": [
    "long_phrase = 'Насколько проще было бы писать программы, если бы не заказчики'\n",
    "short_phrase = '640Кб должно хватить для любых задач. Билл Гейтс (по легенде)'\n",
    "len (long_phrase) > len (short_phrase)"
   ]
  },
  {
   "cell_type": "markdown",
   "metadata": {},
   "source": [
    "у меня тут вопрос, почему, если я использую команду принт, мне выдает следующую ошибку?\n",
    "\n",
    "\n",
    "TypeError                                 Traceback (most recent call last)\n",
    "<ipython-input-9-6afa60a3f9a8> in <module>\n",
    "      1 long_phrase = 'Насколько проще было бы писать программы, если бы не заказчики'\n",
    "      2 short_phrase = '640Кб должно хватить для любых задач. Билл Гейтс (по легенде)'\n",
    "----> 3 print (len (long_phrase) > len (short_phrase))\n",
    "\n",
    "TypeError: 'bool' object is not callable"
   ]
  },
  {
   "cell_type": "code",
   "execution_count": null,
   "metadata": {},
   "outputs": [],
   "source": []
  },
  {
   "cell_type": "markdown",
   "metadata": {},
   "source": [
    "Задание 2. \n",
    "Дано значение объема файла в байтах (в мегабайте 2^20 байт). Напишите перевод этого значения в мегабайты в формате: \"Объем файла равен 213.68Mb\". print ('Объем файла равен' f / 1024 'Mb')"
   ]
  },
  {
   "cell_type": "code",
   "execution_count": 18,
   "metadata": {},
   "outputs": [
    {
     "ename": "SyntaxError",
     "evalue": "invalid syntax (<ipython-input-18-5fcdca33f8f5>, line 2)",
     "output_type": "error",
     "traceback": [
      "\u001b[0;36m  File \u001b[0;32m\"<ipython-input-18-5fcdca33f8f5>\"\u001b[0;36m, line \u001b[0;32m2\u001b[0m\n\u001b[0;31m    print ('Объем файла равен' f / (2^20) 'Mb')\u001b[0m\n\u001b[0m                               ^\u001b[0m\n\u001b[0;31mSyntaxError\u001b[0m\u001b[0;31m:\u001b[0m invalid syntax\n"
     ]
    }
   ],
   "source": [
    "f = 218808.32\n",
    "print ('Объем файла равен' f / (2^20) 'Mb')"
   ]
  },
  {
   "cell_type": "markdown",
   "metadata": {},
   "source": [
    "выдает ошибку\n",
    "\n",
    "\n",
    " File \"<ipython-input-18-5fcdca33f8f5>\", line 2\n",
    "    print ('Объем файла равен' f / (2^20) 'Mb')\n",
    "                               ^\n",
    "SyntaxError: invalid syntax\n",
    "    \n",
    "непонимаю, почему неправильный синтаксис, если косая черта - это знак деления? "
   ]
  },
  {
   "cell_type": "code",
   "execution_count": null,
   "metadata": {},
   "outputs": [],
   "source": []
  },
  {
   "cell_type": "markdown",
   "metadata": {},
   "source": [
    "Задание 3. \n",
    "Разработать приложение для определения знака зодиака по дате рождения. Пример:\n",
    "\n",
    "Введите месяц: март\n",
    "\n",
    "Введите число: 6\n",
    "\n",
    "Вывод: Рыбы"
   ]
  },
  {
   "cell_type": "code",
   "execution_count": null,
   "metadata": {},
   "outputs": [],
   "source": [
    "data = int(input('Введите число:'))\n",
    "month = int(input('Введите месяц (в числовом виде 1,2,3...):'))\n",
    "if (21 <= data <= 31 and month == 3) or (1 <= data <= 20 and month == 4):\n",
    "    print ('Ваш знак: Овен')\n",
    "   \n",
    "if 21 <= data <= 30 and month == 4:\n",
    "    print ('Ваш знак: Телец')\n",
    "if 1 <= data <= 21 and month == 5:\n",
    "    print ('Ваш знак: Телец')\n",
    "if 22 <= data <= 31 and month == 5:\n",
    "    print ('Ваш знак: Близнецы')\n",
    "if 1 <= data <= 21 and month == 6:\n",
    "    print ('Ваш знак: Близнецы')\n",
    "if 22 <= data <= 30 and month == 6:\n",
    "    print ('Ваш знак: Рак')\n",
    "if 1 <= data <= 22 and month == 7:\n",
    "    print ('Ваш знак: Рак')\n",
    "if 23 <= data <= 31 and month == 7:\n",
    "    print ('Ваш знак: Лев')\n",
    "if 1 <= data <= 21 and month == 8:\n",
    "    print ('Ваш знак: Лев')\n",
    "if 22 <= data <= 31 and month == 8:\n",
    "    print ('Ваш знак: Дева')\n",
    "if 1 <= data <= 23 and month == 9:\n",
    "    print ('Ваш знак: Дева')\n",
    "if 24 <= data <= 30 and month == 9:\n",
    "    print ('Ваш знак: Весы')\n",
    "if 1 <= data <= 23 and month == 10:\n",
    "    print ('Ваш знак: Весы')\n",
    "if 24 <= data <= 31 and month == 10:\n",
    "    print ('Ваш знак: Скорпион')\n",
    "if 1 <= data <= 23 and month == 11:\n",
    "    print ('Ваш знак: Скорпион')\n",
    "if 24 <= data <= 30 and month == 11:\n",
    "    print ('Ваш знак: Стрелец')\n",
    "if 1 <= data <= 22 and month == 12:\n",
    "    print ('Ваш знак: Стрелец')\n",
    "if 23 <= data <= 31 and month == 12:\n",
    "    print ('Ваш знак: Козерог')\n",
    "if 1 <= data <= 20 and month == 1:\n",
    "    print ('Ваш знак: Козерог')\n",
    "if 21 <= data <= 31 and month == 1:\n",
    "    print ('Ваш знак: Водолей')\n",
    "if 1 <= data <= 19 and month == 2:\n",
    "    print ('Ваш знак: Водолей')\n",
    "if 20 <= data <= 29 and month == 2:\n",
    "    print ('Ваш знак: Рыбы')\n",
    "if 1 <= data <= 20 and month == 3:\n",
    "    print ('Ваш знак: Рыбы')\n"
   ]
  },
  {
   "cell_type": "markdown",
   "metadata": {},
   "source": [
    "Задание 4. Нужно разработать приложение для финансового планирования. Приложение учитывает сколько уходит на ипотеку, \"на жизнь\" и сколько нужно отложить на пенсию. Пользователь вводит:\n",
    "\n",
    "заработанную плату в месяц.\n",
    "сколько процентов от ЗП уходит на ипотеку.\n",
    "сколько процентов от ЗП уходит \"на жизнь\".\n",
    "сколько раз приходит премия в год.\n",
    "Остальная часть заработанной платы откладывается на пенсию.\n",
    "\n",
    "Также пользователю приходит премия в размере зарплаты, от которой половина уходит на отпуск, а вторая половина откладывается.\n",
    "\n",
    "Программа должна учитывать сколько премий было в год.\n",
    "\n",
    "Нужно вывести сколько денег тратит пользователь на ипотеку и сколько он накопит за год.\n",
    "\n",
    "Пример:\n",
    "\n",
    "Введите заработанную плату в месяц: 100000\n",
    "\n",
    "Введите сколько процентов уходит на ипотеку: 30\n",
    "\n",
    "Введите сколько процентов уходит на жизнь: 50\n",
    "\n",
    "Введите количество премий за год: 2\n",
    "\n",
    "Вывод: На ипотеку было потрачено: 360000 рублей Было накоплено: 340000 рублей"
   ]
  },
  {
   "cell_type": "code",
   "execution_count": null,
   "metadata": {},
   "outputs": [],
   "source": [
    "salary = int(input('Введите заработанную плату в месяц:'))\n",
    "credit = int(input('Введите сколько процентов уходит на ипотеку:'))\n",
    "daily_exp = int(input('Введите сколько процентов уходит на жизнь:'))\n",
    "bonus = int(input('Введите количество премий за год:'))\n",
    "saved = ((salary - (credit * salary / 100) - (daily_exp * salary / 100)) * 12) + (salary * bonus / 2)\n",
    "credit_total = (credit * salary / 100) * 12\n",
    "print('На ипотеку было потрачено:')\n",
    "print(credit_total)\n",
    "print('Было накоплено:')\n",
    "print(saved)"
   ]
  },
  {
   "cell_type": "markdown",
   "metadata": {},
   "source": [
    "вариант ниже у меня почему то не сработал, при запуске говорит, что синтаксическая ошибка\n",
    "\n",
    "апдейт: я чуть позже сообразила, что в команде print , в скобках запятые не поставила между строкой и переменной"
   ]
  },
  {
   "cell_type": "code",
   "execution_count": null,
   "metadata": {},
   "outputs": [],
   "source": [
    "salary = int(input('Введите заработанную плату в месяц:'))\n",
    "credit = int(input('Введите сколько процентов уходит на ипотеку:'))\n",
    "daily_exp = int(input('Введите сколько процентов уходит на жизнь:'))\n",
    "bonus = int(input('Введите количество премий за год:'))\n",
    "saved = ((salary - (credit * salary / 100) - (daily_exp * salary / 100)) * 12) + (salary * bonus / 2)\n",
    "credit_total = (credit * salary / 100) * 12\n",
    "print ('На ипотеку было потрачено:' , credit_total , 'рублей')\n",
    "print ('Было накоплено:' , saved , 'рублей')"
   ]
  },
  {
   "cell_type": "code",
   "execution_count": null,
   "metadata": {},
   "outputs": [],
   "source": []
  }
 ],
 "metadata": {
  "kernelspec": {
   "display_name": "Python 3",
   "language": "python",
   "name": "python3"
  },
  "language_info": {
   "codemirror_mode": {
    "name": "ipython",
    "version": 3
   },
   "file_extension": ".py",
   "mimetype": "text/x-python",
   "name": "python",
   "nbconvert_exporter": "python",
   "pygments_lexer": "ipython3",
   "version": "3.7.6"
  }
 },
 "nbformat": 4,
 "nbformat_minor": 4
}
